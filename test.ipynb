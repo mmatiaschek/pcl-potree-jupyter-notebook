from google.colab import auth
auth.authenticate_user()