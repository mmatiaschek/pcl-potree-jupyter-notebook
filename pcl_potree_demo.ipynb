{
 "cells": [
  {
   "cell_type": "code",
   "execution_count": 1,
   "metadata": {},
   "outputs": [],
   "source": [
    "import pcl"
   ]
  },
  {
   "cell_type": "code",
   "execution_count": 2,
   "metadata": {},
   "outputs": [
    {
     "name": "stdout",
     "output_type": "stream",
     "text": [
      "total 7268\r\n",
      "drwxr-xr-x 1 root root    4096 May  1 00:16 .\r\n",
      "drwxr-xr-x 1 root root    4096 May  1 00:26 ..\r\n",
      "-rwxr-xr-x 1 root root  726798 Apr 26 06:35 demo.pcd\r\n",
      "-rw-r--r-- 1 root root 6144813 May  1 00:26 demo.ply\r\n",
      "-rwxr-xr-x 1 root root  548946 Mar  8 05:59 demo.vtk\r\n",
      "drwxr-xr-x 1 root root    4096 May  1 00:24 html\r\n"
     ]
    }
   ],
   "source": [
    "!ls -al /home/joyvan/work/"
   ]
  },
  {
   "cell_type": "code",
   "execution_count": 10,
   "metadata": {},
   "outputs": [
    {
     "name": "stdout",
     "output_type": "stream",
     "text": [
      "\u001b[0;mConvert a VTK file to PLY format. For more information, use: pcl_vtk2ply -h\r\n",
      "\u001b[0;mLoaded /home/joyvan/work/demo.vtk with 34300 points/vertices.\r\n"
     ]
    }
   ],
   "source": [
    "!pcl_vtk2ply /home/joyvan/work/demo.vtk /home/joyvan/work/cgm.ply"
   ]
  },
  {
   "cell_type": "code",
   "execution_count": 12,
   "metadata": {},
   "outputs": [
    {
     "name": "stdout",
     "output_type": "stream",
     "text": [
      "== params ==\n",
      "source[0]:         \t/home/joyvan/work/cgm.ply\n",
      "outdir:            \t/home/joyvan/work/html/cgm\n",
      "spacing:           \t0\n",
      "diagonal-fraction: \t200\n",
      "levels:            \t-1\n",
      "format:            \t\n",
      "scale:             \t0\n",
      "pageName:          \tindex\n",
      "projection:        \t\n",
      "\n",
      "AABB: \n",
      "min: [-0.64219, -0.853144, 0.637289]\n",
      "max: [0.904027, 0.931675, 2.23436]\n",
      "size: [1.54622, 1.78482, 1.59707]\n",
      "\n",
      "cubic AABB: \n",
      "min: [-0.64219, -0.853144, 0.637289]\n",
      "max: [1.14263, 0.931675, 2.42211]\n",
      "size: [1.78482, 1.78482, 1.78482]\n",
      "\n",
      "spacing calculated from diagonal: 0.015457\n",
      "READING:  /home/joyvan/work/cgm.ply\n",
      "closing writer\n",
      "\n",
      "conversion finished\n",
      "34,300 points were processed and 34,300 points ( 100% ) were written to the output. \n",
      "duration: 0.298s\n"
     ]
    }
   ],
   "source": [
    "!rm -rf /home/joyvan/work/html/cgm\n",
    "!/opt/potree/dev/workspaces/PotreeConverter/master/build/PotreeConverter/PotreeConverter -i /home/joyvan/work/cgm.ply -o /home/joyvan/work/html/cgm -p index"
   ]
  },
  {
   "cell_type": "code",
   "execution_count": 13,
   "metadata": {},
   "outputs": [
    {
     "data": {
      "text/html": [
       "<iframe src=\"http://localhost:8080/potree/cgm/index.html\" width=\"800\" height=\"600\"/>"
      ],
      "text/plain": [
       "<IPython.core.display.HTML object>"
      ]
     },
     "metadata": {},
     "output_type": "display_data"
    }
   ],
   "source": [
    "%%html\n",
    "<iframe src=\"http://localhost:8080/potree/cgm/index.html\" width=\"800\" height=\"600\"/>"
   ]
  },
  {
   "cell_type": "code",
   "execution_count": 6,
   "metadata": {},
   "outputs": [
    {
     "name": "stdout",
     "output_type": "stream",
     "text": [
      "\u001b[0;mConvert a PCD file to PLY format. For more information, use: pcl_pcd2ply -h\n",
      "\u001b[0;mPLY output format: \u001b[0;36mbinary, \u001b[0;m\u001b[0;36musing camera\n",
      "\u001b[0;m\u001b[1;32m> \u001b[0;mLoading \u001b[0;36m/home/joyvan/work/demo.pcd \u001b[0;m\u001b[0;m[done, \u001b[0;36m35\u001b[0;m\u001b[0;m ms : \u001b[0;36m307200\u001b[0;m\u001b[0;m points]\n",
      "\u001b[0;mAvailable dimensions: \u001b[0;36mx y z rgba label\n",
      "\u001b[0;m\u001b[1;32m> \u001b[0;mSaving \u001b[0;36m/home/joyvan/work/demo.ply \u001b[0;m\u001b[0;m[done, \u001b[0;36m207\u001b[0;m\u001b[0;m ms : \u001b[0;36m307200\u001b[0;m\u001b[0;m points]\n",
      "== params ==\n",
      "source[0]:         \t/home/joyvan/work/demo.ply\n",
      "outdir:            \t/home/joyvan/work/html/demo\n",
      "spacing:           \t0\n",
      "diagonal-fraction: \t200\n",
      "levels:            \t-1\n",
      "format:            \t\n",
      "scale:             \t0\n",
      "pageName:          \tindex\n",
      "projection:        \t\n",
      "\n",
      "AABB: \n",
      "min: [-1.54371, -1.12606, 0]\n",
      "max: [1.58211, 1.22927, 3.309]\n",
      "size: [3.12583, 2.35533, 3.309]\n",
      "\n",
      "cubic AABB: \n",
      "min: [-1.54371, -1.12606, 0]\n",
      "max: [1.76529, 2.18294, 3.309]\n",
      "size: [3.309, 3.309, 3.309]\n",
      "\n",
      "spacing calculated from diagonal: 0.0286568\n",
      "ABORTING CONVERSION: target already exists: /home/joyvan/work/html/demo/pointclouds/index/cloud.js\n",
      "If you want to overwrite the existing conversion, specify --overwrite\n",
      "If you want add new points to the existing conversion, make sure the new points are contained within the bounding box of the existing conversion and then specify --incremental\n"
     ]
    }
   ],
   "source": [
    "!pcl_pcd2ply /home/joyvan/work/demo.pcd /home/joyvan/work/demo.ply\n",
    "!rm -rf /home/joyvan/work/html/demo\n",
    "!/opt/potree/dev/workspaces/PotreeConverter/master/build/PotreeConverter/PotreeConverter -i /home/joyvan/work/demo.ply -o /home/joyvan/work/html/demo -p index"
   ]
  },
  {
   "cell_type": "code",
   "execution_count": 7,
   "metadata": {},
   "outputs": [
    {
     "data": {
      "text/html": [
       "<iframe src=\"http://localhost:8080/potree/demo/index.html\" width=\"800\" height=\"600\"/>"
      ],
      "text/plain": [
       "<IPython.core.display.HTML object>"
      ]
     },
     "metadata": {},
     "output_type": "display_data"
    }
   ],
   "source": [
    "%%html\n",
    "<iframe src=\"http://localhost:8080/potree/demo/index.html\" width=\"800\" height=\"600\"/>"
   ]
  }
 ],
 "metadata": {
  "kernelspec": {
   "display_name": "Python [conda env:pcl_env]",
   "language": "python",
   "name": "conda-env-pcl_env-py"
  },
  "language_info": {
   "codemirror_mode": {
    "name": "ipython",
    "version": 2
   },
   "file_extension": ".py",
   "mimetype": "text/x-python",
   "name": "python",
   "nbconvert_exporter": "python",
   "pygments_lexer": "ipython2",
   "version": "2.7.14"
  }
 },
 "nbformat": 4,
 "nbformat_minor": 2
}
